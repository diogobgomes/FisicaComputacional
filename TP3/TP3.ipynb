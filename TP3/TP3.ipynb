{
 "cells": [
  {
   "cell_type": "code",
   "execution_count": 8,
   "metadata": {
    "ExecuteTime": {
     "end_time": "2020-03-06T17:33:51.735099Z",
     "start_time": "2020-03-06T17:33:51.729413Z"
    },
    "init_cell": true
   },
   "outputs": [],
   "source": [
    "import numpy as np\n",
    "from numba import jit\n",
    "\n",
    "import matplotlib.pyplot as plt\n",
    "import matplotlib.colors as colors\n",
    "import ipywidgets as ipy\n",
    "\n",
    "import numpy.random as rd"
   ]
  },
  {
   "cell_type": "markdown",
   "metadata": {},
   "source": [
    "# TP3"
   ]
  },
  {
   "cell_type": "markdown",
   "metadata": {},
   "source": [
    "## Exercício 1"
   ]
  },
  {
   "cell_type": "code",
   "execution_count": 3,
   "metadata": {
    "ExecuteTime": {
     "end_time": "2020-03-06T17:33:50.509959Z",
     "start_time": "2020-03-06T17:33:50.489517Z"
    }
   },
   "outputs": [
    {
     "name": "stdout",
     "output_type": "stream",
     "text": [
      "Inteiro: 200! =  3943289336823952517761816069660925311475679888435866316473712666221797249817016714601521420059923119520886060694598194151288213951213185525309633124764149655567314286353816586186984944719612228107258321201270166459320656137141474266387621212037869516201606287027897843301130159520851620311758504293980894611113948118519486873600000000000000000000000000000000000000000000000\n",
      "Float: 200! =  inf\n"
     ]
    }
   ],
   "source": [
    "# Factorial using ints (non-recursive)\n",
    "def factorial_int(num):\n",
    "    int_num = int(num)\n",
    "    fac = 1\n",
    "    for i in range(1,int_num):\n",
    "        fac *= i\n",
    "    return fac\n",
    "\n",
    "# Factorial using floats (non-recursive)\n",
    "def factorial_float(num):\n",
    "    fac = 1.0\n",
    "    for i in range(1,int(num)):\n",
    "        fac *= i\n",
    "    return fac\n",
    "\n",
    "print(\"Inteiro: 200! = \",factorial_int(200))\n",
    "print(\"Float: 200! = \",factorial_float(200))"
   ]
  },
  {
   "cell_type": "markdown",
   "metadata": {},
   "source": [
    "## Exercício 2"
   ]
  },
  {
   "cell_type": "code",
   "execution_count": 4,
   "metadata": {
    "ExecuteTime": {
     "end_time": "2020-03-06T17:33:50.529996Z",
     "start_time": "2020-03-06T17:33:50.512681Z"
    }
   },
   "outputs": [
    {
     "name": "stdout",
     "output_type": "stream",
     "text": [
      "[-9.99989425e-07 -1.00000000e+06]\n",
      "[-1.00000000e-06 -1.00001058e+06]\n"
     ]
    }
   ],
   "source": [
    "# Quadratic formulas, returns array of floats with both answers - subtraction problem\n",
    "def resolvente_1(a,b,c):\n",
    "    return np.array(((-b+np.sqrt(b**2-4*a*c))/(2*a),(-b-np.sqrt(b**2-4*a*c))/(2*a)))\n",
    "\n",
    "def resolvente_2(a,b,c):\n",
    "    return np.array(( (2*c)/(-b-np.sqrt(b**2-4*a*c)) , (2*c)/(-b+np.sqrt(b**2-4*a*c)) ))\n",
    "\n",
    "print(resolvente_1(0.001,1000,0.001))\n",
    "print(resolvente_2(0.001,1000,0.001))"
   ]
  },
  {
   "cell_type": "markdown",
   "metadata": {},
   "source": [
    "Porquê a diferença? Devido à forma como o python representa os números em \"float\", há uma perda **grande** de precisão quando subtraímos 2 números muitos próximos um do outro, o que leva a erros se usarmos a fórmula resolvente da forma normal ($x = \\frac{-b\\pm\\sqrt{b^2-4ac}}{2a}$) no solução em que subtraímos a raíz. A solução para o problema vem de escrever a fórmula resolvente numa forma alternativa equivalente ($x = \\frac{2c}{-b\\mp\\sqrt{b^2-4ac}}$, e utilizar as soluções em que $b$ e a raíz têm o mesmo sinal"
   ]
  },
  {
   "cell_type": "code",
   "execution_count": 5,
   "metadata": {
    "ExecuteTime": {
     "end_time": "2020-03-06T17:33:50.551238Z",
     "start_time": "2020-03-06T17:33:50.532158Z"
    }
   },
   "outputs": [
    {
     "name": "stdout",
     "output_type": "stream",
     "text": [
      "[-1.e-06 -1.e+06]\n"
     ]
    }
   ],
   "source": [
    "def resolvente(a,b,c):\n",
    "    return np.array(( (2*c)/(-b-np.sqrt(b**2-4*a*c)) , (-b-np.sqrt(b**2-4*a*c))/(2*a) ))\n",
    "\n",
    "print(resolvente(0.001,1000,0.001))"
   ]
  },
  {
   "cell_type": "markdown",
   "metadata": {},
   "source": [
    "## Exercício 3"
   ]
  },
  {
   "cell_type": "code",
   "execution_count": 6,
   "metadata": {
    "ExecuteTime": {
     "end_time": "2020-03-06T17:33:50.572619Z",
     "start_time": "2020-03-06T17:33:50.553895Z"
    }
   },
   "outputs": [
    {
     "name": "stdout",
     "output_type": "stream",
     "text": [
      "Intervalo (10^-n) \t Número\n",
      "2 \t\t 1.010000000000001\n",
      "4 \t\t 1.0000999999998899\n",
      "6 \t\t 1.0000009999177333\n",
      "8 \t\t 1.0000000039225287\n",
      "10 \t\t 1.000000082840371\n",
      "12 \t\t 1.0000889005833413\n",
      "14 \t\t 0.9992007221626509\n"
     ]
    }
   ],
   "source": [
    "# Derivada\n",
    "\n",
    "def derivative(func,x,lambd):\n",
    "    return (func(x+lambd)-func(x))/lambd\n",
    "\n",
    "def f(x):\n",
    "    return x*(x-1)\n",
    "\n",
    "print(\"Intervalo (10^-n) \\t Número\")\n",
    "\n",
    "for i in range(1,7+1):\n",
    "    print(i*2, '\\t\\t', derivative(f,1,10**(-i*2)))"
   ]
  },
  {
   "cell_type": "markdown",
   "metadata": {},
   "source": [
    "Novamente, temos o problema do exercício 2 de subtrair 2 números demasiado próximos"
   ]
  },
  {
   "cell_type": "markdown",
   "metadata": {},
   "source": [
    "## Exercício 4"
   ]
  },
  {
   "cell_type": "code",
   "execution_count": 7,
   "metadata": {
    "ExecuteTime": {
     "end_time": "2020-03-06T17:33:51.727273Z",
     "start_time": "2020-03-06T17:33:50.574905Z"
    },
    "code_folding": []
   },
   "outputs": [
    {
     "name": "stdout",
     "output_type": "stream",
     "text": [
      "Teórico:  1.5707963267948966\n",
      "Integral, 100 intervalos:  1.5534179294048955 , Diferença:  0.01737839739000102\n",
      "Integral, 100000000 intervalos:  1.570796311085263 , Diferença:  1.5709633593985473e-08\n"
     ]
    }
   ],
   "source": [
    "# Integrais\n",
    "\n",
    "def integral(func,N,min_bound,max_bound):\n",
    "    x_array = np.linspace(min_bound,max_bound,N)\n",
    "    y_array = func(x_array)*2/N\n",
    "    return y_array.sum()\n",
    "\n",
    "def f(x):\n",
    "    return np.sqrt(1-x**2)\n",
    "\n",
    "print(\"Teórico: \", np.pi/2)\n",
    "a = integral(f,100,-1,1)\n",
    "b = integral(f,100000000,-1,1)\n",
    "print(\"Integral, 100 intervalos: \",a, \", Diferença: \", np.pi/2-a)\n",
    "print(\"Integral, 100000000 intervalos: \",b, \", Diferença: \", np.pi/2-b)"
   ]
  }
 ],
 "metadata": {
  "celltoolbar": "Initialization Cell",
  "kernelspec": {
   "display_name": "Python 3",
   "language": "python",
   "name": "python3"
  },
  "language_info": {
   "codemirror_mode": {
    "name": "ipython",
    "version": 3
   },
   "file_extension": ".py",
   "mimetype": "text/x-python",
   "name": "python",
   "nbconvert_exporter": "python",
   "pygments_lexer": "ipython3",
   "version": "3.8.1"
  }
 },
 "nbformat": 4,
 "nbformat_minor": 2
}
