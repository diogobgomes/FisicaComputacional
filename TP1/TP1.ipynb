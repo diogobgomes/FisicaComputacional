{
 "cells": [
  {
   "cell_type": "code",
   "execution_count": 4,
   "metadata": {
    "ExecuteTime": {
     "end_time": "2020-02-15T15:55:53.951677Z",
     "start_time": "2020-02-15T15:55:38.488014Z"
    },
    "init_cell": true
   },
   "outputs": [],
   "source": [
    "# Initialization cell\n",
    "import numpy as np\n",
    "from numba import jit\n",
    "import scipy.optimize as opt\n",
    "import matplotlib.pyplot as plt"
   ]
  },
  {
   "cell_type": "markdown",
   "metadata": {},
   "source": [
    "# TP1"
   ]
  },
  {
   "cell_type": "markdown",
   "metadata": {
    "heading_collapsed": true
   },
   "source": [
    "## Exercício 2"
   ]
  },
  {
   "cell_type": "code",
   "execution_count": 2,
   "metadata": {
    "ExecuteTime": {
     "end_time": "2020-02-15T15:53:22.291499Z",
     "start_time": "2020-02-15T15:53:22.282671Z"
    },
    "hidden": true
   },
   "outputs": [
    {
     "name": "stdout",
     "output_type": "stream",
     "text": [
      "0 -  1\n",
      "1  -  2.0\n",
      "2  -  5.0\n",
      "3  -  14.0\n",
      "4  -  42.0\n",
      "5  -  132.0\n",
      "6  -  429.0\n",
      "7  -  1430.0\n",
      "8  -  4862.0\n",
      "9  -  16796.0\n"
     ]
    }
   ],
   "source": [
    "def catalan(n):\n",
    "\tnum = 1\n",
    "\tprint('0 - ',num)\n",
    "\ti = 0\n",
    "\twhile num < n:\n",
    "\t\ti += 1\n",
    "\t\tnum = ((4*i+2)/(i+2))*num\n",
    "\t\tprint(i,' - ',num)\n",
    "\n",
    "catalan(10000)"
   ]
  },
  {
   "cell_type": "markdown",
   "metadata": {},
   "source": [
    "## Exercício 2"
   ]
  },
  {
   "cell_type": "code",
   "execution_count": 5,
   "metadata": {
    "ExecuteTime": {
     "end_time": "2020-02-15T15:57:15.483439Z",
     "start_time": "2020-02-15T15:55:56.458795Z"
    }
   },
   "outputs": [
    {
     "name": "stdout",
     "output_type": "stream",
     "text": [
      "-1.7473721764264427\n"
     ]
    }
   ],
   "source": [
    "@jit\n",
    "def plane(diag, L):\n",
    "    num = 0\n",
    "    for i in range(diag+2,L+1):\n",
    "        for j in range(diag+1,i):\n",
    "            num += (-1) ** ((diag + i + j)) / (diag ** 2 + i ** 2 + j ** 2)**0.5\n",
    "    num = num*2\n",
    "    for i in range(diag+1,L+1):\n",
    "        num += ((-1) ** (diag + i*2)) / (diag ** 2 + (i ** 2)*2)**0.5\n",
    "    return num\n",
    "\n",
    "@jit\n",
    "def line(diag, L):\n",
    "    num = 0\n",
    "    for i in range(diag+1,L+1):\n",
    "        num += (-1) ** (i) / ((diag ** 2)*2 + i ** 2)**0.5 # diag*2 é um número par\n",
    "    return num\n",
    "\n",
    "@jit\n",
    "def main(L):\n",
    "    octant = 0\n",
    "    for i in range(1,L-2):\n",
    "        octant += 3*plane(i,L) + 3*line(i,L) + ((-1) ** (i) / (  3*(i ** 2))**0.5)\n",
    "    for i in range(L-2,L+1):\n",
    "        for j in range(L-2,L+1):\n",
    "            for k in range(L-2,L+1):\n",
    "                octant += (-1) ** ((k + i + j)) / (k ** 2 + i ** 2 + j ** 2)**0.5\n",
    "    return 8*octant + 12*plane(0,L) + 6*line(0,L)\n",
    "\n",
    "print(main(3000))"
   ]
  },
  {
   "cell_type": "code",
   "execution_count": 8,
   "metadata": {
    "ExecuteTime": {
     "end_time": "2020-02-15T16:03:19.940816Z",
     "start_time": "2020-02-15T16:03:15.379110Z"
    }
   },
   "outputs": [
    {
     "name": "stdout",
     "output_type": "stream",
     "text": [
      "-1.7437283802202552\n",
      "3397651\n"
     ]
    }
   ],
   "source": [
    "# Simple (ineficient) version\n",
    "\n",
    "# Counting the number of steps it takes\n",
    "count = 0\n",
    "\n",
    "def main2(L):\n",
    "    global count\n",
    "    num = 0\n",
    "    for i in range(1,L+1):\n",
    "        for j in range(1,L+1):\n",
    "            for k in range(1,L+1):\n",
    "                count += 1\n",
    "                num += (-1) ** ((k + i + j)) / (k ** 2 + i ** 2 + j ** 2)**0.5\n",
    "    num = num*8\n",
    "    plan = 0\n",
    "    for i in range(1,L+1):\n",
    "        for j in range(1,L+1):\n",
    "            count += 1\n",
    "            plan += ((-1) ** ((i+j)) / (j**2 + i ** 2)**0.5)\n",
    "    plan = plan*12\n",
    "    lin=0\n",
    "    for i in range(1,L+1):\n",
    "        count += 1\n",
    "        lin += ((-1) ** ((i)) / (i ** 2)**0.5)\n",
    "    lin = lin*6\n",
    "    count += 1\n",
    "    return num+lin+plan\n",
    "print(main2(150))\n",
    "print(count)"
   ]
  },
  {
   "cell_type": "code",
   "execution_count": 10,
   "metadata": {
    "ExecuteTime": {
     "end_time": "2020-02-15T16:05:43.625004Z",
     "start_time": "2020-02-15T16:05:05.318551Z"
    }
   },
   "outputs": [
    {
     "name": "stdout",
     "output_type": "stream",
     "text": [
      "i =  496273372 410421 430434 439450 454 458\r"
     ]
    }
   ],
   "source": [
    "# Create an array with the Madelung constant for various values of L\n",
    "L = range(3,500)\n",
    "\n",
    "results = np.zeros(497)\n",
    "\n",
    "\n",
    "\n",
    "for i in range(497):\n",
    "    results[i] = main(i+3)\n",
    "    print('i = ',i,end='\\r')"
   ]
  },
  {
   "cell_type": "code",
   "execution_count": 11,
   "metadata": {
    "ExecuteTime": {
     "end_time": "2020-02-15T16:05:49.953665Z",
     "start_time": "2020-02-15T16:05:48.941696Z"
    }
   },
   "outputs": [
    {
     "name": "stdout",
     "output_type": "stream",
     "text": [
      "0.45663270887184776   1.3268135762679618   1.747729135726803\n"
     ]
    },
    {
     "data": {
      "text/plain": [
       "[]"
      ]
     },
     "execution_count": 11,
     "metadata": {},
     "output_type": "execute_result"
    },
    {
     "data": {
      "image/png": "[encoded data removed]",
      "text/plain": [
       "<Figure size 1440x720 with 1 Axes>"
      ]
     },
     "metadata": {
      "needs_background": "dark"
     },
     "output_type": "display_data"
    }
   ],
   "source": [
    "# Graph the Madelung Constant for various values of L\n",
    "\n",
    "def trial(x,a,b,c):\n",
    "    return 0.5*np.exp(-a*x)*np.cos(b*x)-c\n",
    "\n",
    "# Try to find a fit\n",
    "guess = [0.1,2,1.74]\n",
    "popt,pcov = opt.curve_fit(trial,L,results,p0=guess,maxfev=10000)\n",
    "a,b,c = popt\n",
    "\n",
    "pontosx = np.linspace(3,500, num=5000)\n",
    "\n",
    "ajuste = trial(pontosx,a,b,c)\n",
    "\n",
    "print(a,' ',b,' ',c)\n",
    "\n",
    "# Draw the graph\n",
    "fig1 = plt.figure(figsize=(20,10))\n",
    "plt.plot(L,results,'.')\n",
    "plt.plot(pontosx,ajuste,'-')\n",
    "plt.plot()"
   ]
  }
 ],
 "metadata": {
  "celltoolbar": "Initialization Cell",
  "kernelspec": {
   "display_name": "Python 3",
   "language": "python",
   "name": "python3"
  },
  "language_info": {
   "codemirror_mode": {
    "name": "ipython",
    "version": 3
   },
   "file_extension": ".py",
   "mimetype": "text/x-python",
   "name": "python",
   "nbconvert_exporter": "python",
   "pygments_lexer": "ipython3",
   "version": "3.8.1"
  }
 },
 "nbformat": 4,
 "nbformat_minor": 2
}
