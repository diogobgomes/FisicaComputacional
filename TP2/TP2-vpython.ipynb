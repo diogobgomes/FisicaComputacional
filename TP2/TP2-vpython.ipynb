{
 "cells": [
  {
   "cell_type": "code",
   "execution_count": 5,
   "metadata": {
    "ExecuteTime": {
     "end_time": "2020-02-18T17:31:08.020370Z",
     "start_time": "2020-02-18T17:31:07.838729Z"
    },
    "init_cell": true
   },
   "outputs": [],
   "source": [
    "import numpy as np\n",
    "import numba as jit\n",
    "\n",
    "import vpython as vp\n",
    "import matplotlib.pyplot as plt"
   ]
  },
  {
   "cell_type": "markdown",
   "metadata": {},
   "source": [
    "# TP2\n",
    "Exercícios com vpython só"
   ]
  },
  {
   "cell_type": "markdown",
   "metadata": {
    "heading_collapsed": true
   },
   "source": [
    "## Exercício 4"
   ]
  },
  {
   "cell_type": "code",
   "execution_count": 27,
   "metadata": {
    "ExecuteTime": {
     "end_time": "2020-02-18T17:55:26.872063Z",
     "start_time": "2020-02-18T17:55:26.853460Z"
    },
    "hidden": true
   },
   "outputs": [
    {
     "data": {
      "text/html": [
       "<div id=\"glowscript\" class=\"glowscript\"></div>"
      ],
      "text/plain": [
       "<IPython.core.display.HTML object>"
      ]
     },
     "metadata": {},
     "output_type": "display_data"
    },
    {
     "data": {
      "application/javascript": [
       "if (typeof Jupyter !== \"undefined\") { window.__context = { glowscript_container: $(\"#glowscript\").removeAttr(\"id\")};}else{ element.textContent = ' ';}"
      ],
      "text/plain": [
       "<IPython.core.display.Javascript object>"
      ]
     },
     "metadata": {},
     "output_type": "display_data"
    }
   ],
   "source": [
    "# Alínea 1, NaCl\n",
    "\n",
    "# Necessary for displaying correctly\n",
    "scene1 = vp.canvas()\n",
    "\n",
    "# Sizes\n",
    "L = 1\n",
    "sodium_size = 0.4\n",
    "chloride_size= 0.2\n",
    "\n",
    "# Drawing\n",
    "for i in range(-L,L+1):\n",
    "    for j in range(-L,L+1):\n",
    "        for k in range(-L,L+1):\n",
    "            if (i+j+k) % 2 == 0:\n",
    "                vp.sphere(radius=sodium_size, color = vp.color.orange, pos = vp.vector(i,j,k))\n",
    "            else:\n",
    "                vp.sphere(radius=chloride_size, color = vp.color.green, pos = vp.vector(i,j,k))\n"
   ]
  },
  {
   "cell_type": "code",
   "execution_count": 28,
   "metadata": {
    "ExecuteTime": {
     "end_time": "2020-02-18T17:55:31.644275Z",
     "start_time": "2020-02-18T17:55:31.641280Z"
    },
    "hidden": true
   },
   "outputs": [],
   "source": [
    "scene1.delete()"
   ]
  },
  {
   "cell_type": "code",
   "execution_count": 25,
   "metadata": {
    "ExecuteTime": {
     "end_time": "2020-02-18T17:55:07.219133Z",
     "start_time": "2020-02-18T17:55:07.205960Z"
    },
    "hidden": true
   },
   "outputs": [
    {
     "data": {
      "text/html": [
       "<div id=\"glowscript\" class=\"glowscript\"></div>"
      ],
      "text/plain": [
       "<IPython.core.display.HTML object>"
      ]
     },
     "metadata": {},
     "output_type": "display_data"
    },
    {
     "data": {
      "application/javascript": [
       "if (typeof Jupyter !== \"undefined\") { window.__context = { glowscript_container: $(\"#glowscript\").removeAttr(\"id\")};}else{ element.textContent = ' ';}"
      ],
      "text/plain": [
       "<IPython.core.display.Javascript object>"
      ]
     },
     "metadata": {},
     "output_type": "display_data"
    }
   ],
   "source": [
    "# Alínea 2, FCC crystal\n",
    "\n",
    "# Necessary for displaying correctly\n",
    "scene2 = vp.canvas()\n",
    "\n",
    "# Sizes\n",
    "L = 1\n",
    "atom_size = 0.5\n",
    "\n",
    "# Drawing\n",
    "for i in range(-L,L+1):\n",
    "    for j in range(-L,L+1):\n",
    "        for k in range(-L,L+1):\n",
    "            if (i+j+k) % 2 != 0:\n",
    "                vp.sphere(radius=atom_size, color = vp.color.orange, pos = vp.vector(i,j,k))"
   ]
  },
  {
   "cell_type": "code",
   "execution_count": null,
   "metadata": {
    "hidden": true
   },
   "outputs": [],
   "source": [
    "scene2.delete()"
   ]
  },
  {
   "cell_type": "code",
   "execution_count": 10,
   "metadata": {
    "ExecuteTime": {
     "end_time": "2020-02-18T17:33:04.100306Z",
     "start_time": "2020-02-18T17:33:04.086025Z"
    },
    "hidden": true
   },
   "outputs": [
    {
     "data": {
      "text/html": [
       "<div id=\"glowscript\" class=\"glowscript\"></div>"
      ],
      "text/plain": [
       "<IPython.core.display.HTML object>"
      ]
     },
     "metadata": {},
     "output_type": "display_data"
    },
    {
     "data": {
      "application/javascript": [
       "if (typeof Jupyter !== \"undefined\") { window.__context = { glowscript_container: $(\"#glowscript\").removeAttr(\"id\")};}else{ element.textContent = ' ';}"
      ],
      "text/plain": [
       "<IPython.core.display.Javascript object>"
      ]
     },
     "metadata": {},
     "output_type": "display_data"
    }
   ],
   "source": [
    "# Another crystal type\n",
    "\n",
    "# Necessary for displaying correctly\n",
    "scene3 = vp.canvas()\n",
    "\n",
    "# Sizes\n",
    "L = 2\n",
    "size_1 = 0.5\n",
    "size_2 = 0.5\n",
    "\n",
    "# Drawing\n",
    "# Atom 1 (orange)\n",
    "for i in range(-L,L+1,2):\n",
    "    for j in range(-L,L+1,2):\n",
    "        for k in range(-L,L+1,2):\n",
    "            vp.sphere(radius=size_1, color=vp.color.orange, pos = vp.vector(i,j,k))\n",
    "\n",
    "# Atom 2 (green)\n",
    "for i in range(-L+1,L,2):\n",
    "    for j in range(-L+1,L,2):\n",
    "        for k in range(-L+1,L,2):\n",
    "            vp.sphere(radius=size_2, color=vp.color.green, pos = vp.vector(i,j,k))\n"
   ]
  },
  {
   "cell_type": "code",
   "execution_count": null,
   "metadata": {
    "hidden": true
   },
   "outputs": [],
   "source": [
    "scene3.delete()"
   ]
  },
  {
   "cell_type": "markdown",
   "metadata": {
    "heading_collapsed": true
   },
   "source": [
    "## Exercício 5"
   ]
  },
  {
   "cell_type": "code",
   "execution_count": 33,
   "metadata": {
    "ExecuteTime": {
     "end_time": "2020-02-18T20:27:01.607593Z",
     "start_time": "2020-02-18T20:26:57.617574Z"
    },
    "hidden": true
   },
   "outputs": [
    {
     "data": {
      "text/html": [
       "<div id=\"glowscript\" class=\"glowscript\"></div>"
      ],
      "text/plain": [
       "<IPython.core.display.HTML object>"
      ]
     },
     "metadata": {},
     "output_type": "display_data"
    },
    {
     "data": {
      "application/javascript": [
       "if (typeof Jupyter !== \"undefined\") { window.__context = { glowscript_container: $(\"#glowscript\").removeAttr(\"id\")};}else{ element.textContent = ' ';}"
      ],
      "text/plain": [
       "<IPython.core.display.Javascript object>"
      ]
     },
     "metadata": {},
     "output_type": "display_data"
    }
   ],
   "source": [
    "# Planets\n",
    "\n",
    "# Returns the angular velocity in days given the orbital period in days\n",
    "def ang_vel(per):\n",
    "    return 2*np.pi/per\n",
    "\n",
    "# Returns the position of the planet given the radius, the angular velocity (by day), and the time since epoch (in days)\n",
    "def position(params,t):\n",
    "    # Assuming initial angle = 0\n",
    "    # Assuming z = 0\n",
    "    # params[2] = orbital radius, params[3] = angular velocity (in days)\n",
    "    return vp.vector(params[2]*np.cos(params[3]*t),params[2]*np.sin(params[3]*t),0)\n",
    "\n",
    "\n",
    "\n",
    "# Useful variables\n",
    "update_time = 1 # time interval between updates (in days)\n",
    "scale_multiplier = 0.0008 # scale multiplier for planets - planet radius in km, but distances measured in km*10^6\n",
    "sun_scale_multiplier = 0.00005\n",
    "\n",
    "# Planet's parameters: Name, Radius (adjusted, km*10^6), Orbital Radius (km*10^6), Angular Velocity (days), Color\n",
    "planet_params = ( (\"Mercury\", 2440*scale_multiplier, 57.9, ang_vel(88), vp.color.white),\n",
    "                 (\"Venus\", 6052*scale_multiplier, 108.2, ang_vel(224.7), vp.color.orange),\n",
    "                 (\"Earth\", 6371*scale_multiplier, 149.6, ang_vel(365.3), vp.color.blue),\n",
    "                 (\"Mars\", 3386*scale_multiplier, 227.9, ang_vel(687), vp.color.red),\n",
    "                 (\"Jupyter\", 69173*scale_multiplier, 778.5, ang_vel(4331.6), vp.color.orange),\n",
    "                 (\"Saturn\", 57316*scale_multiplier, 1433.4, ang_vel(10759.2), vp.color.green))\n",
    "\n",
    "\n",
    "\n",
    "# Necessary for displaying correctly\n",
    "scene4 = vp.canvas()\n",
    "\n",
    "t = 0 # Initial time\n",
    "sim_lenght = 120 # Number of sim frames\n",
    "\n",
    "\n",
    "\n",
    "# Create the solar system\n",
    "sun = vp.sphere(pos = vp.vector(0,0,0), color = vp.color.yellow, radius = 695500*sun_scale_multiplier)\n",
    "planets = np.empty(len(planet_params),vp.sphere)\n",
    "\n",
    "for i in range(len(planets)):\n",
    "    planets[i] = vp.sphere(color = planet_params[i][4], radius = planet_params[i][1])\n",
    "\n",
    "    \n",
    "    \n",
    "#while True:\n",
    "while t < sim_lenght:\n",
    "    # Update time\n",
    "    t += update_time\n",
    "    vp.rate(30) # 30 FPS\n",
    "    for j,i in enumerate(planets):\n",
    "        i.pos = position(planet_params[j],t)"
   ]
  },
  {
   "cell_type": "code",
   "execution_count": 34,
   "metadata": {
    "ExecuteTime": {
     "end_time": "2020-02-18T20:27:56.536404Z",
     "start_time": "2020-02-18T20:27:56.473779Z"
    },
    "hidden": true
   },
   "outputs": [],
   "source": [
    "scene4.delete()"
   ]
  }
 ],
 "metadata": {
  "celltoolbar": "Initialization Cell",
  "kernelspec": {
   "display_name": "Python 3",
   "language": "python",
   "name": "python3"
  },
  "language_info": {
   "codemirror_mode": {
    "name": "ipython",
    "version": 3
   },
   "file_extension": ".py",
   "mimetype": "text/x-python",
   "name": "python",
   "nbconvert_exporter": "python",
   "pygments_lexer": "ipython3",
   "version": "3.8.1"
  }
 },
 "nbformat": 4,
 "nbformat_minor": 2
}
